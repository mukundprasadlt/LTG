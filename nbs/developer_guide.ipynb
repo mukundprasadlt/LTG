{
 "cells": [
  {
   "cell_type": "markdown",
   "metadata": {},
   "source": [
    "# Developer Guide\n",
    "\n",
    "> We are using nbdev code structure to standardize coding."
   ]
  },
  {
   "cell_type": "markdown",
   "metadata": {},
   "source": [
    "*Always write code under 'nbs' folder and lib code folder is under 'app' folder*"
   ]
  },
  {
   "cell_type": "markdown",
   "metadata": {},
   "source": [
    "### Must read \n",
    "- Best Practices https://nbdev.fast.ai/tutorials/best_practices.html\n",
    "- Directives https://nbdev.fast.ai/explanations/directives.html"
   ]
  },
  {
   "cell_type": "markdown",
   "metadata": {},
   "source": [
    "### STEPS\n",
    "1. Create notebook file under nbs folder \n",
    "1. Give title and description of file in markdown:\n",
    "   \n",
    "   ```\n",
    "   # Ttile\n",
    "\n",
    "   > Description\n",
    "   ```\n",
    "\n",
    "1. Assign file name\n",
    "   \n",
    "   `#| default_exp policy/control_gap_analyzer`\n",
    "\n",
    "1. Write your code following the directives\n",
    "   Common directive:\n",
    "    - `#| export`  Export code in file and document function without sourcecode\n",
    "    - `#| hide`    Hide code from documentations\n",
    "    - `#| exports` Document code with output\n",
    "  \n",
    "2. Generate code from notebook:\n",
    "\n",
    "    ```\n",
    "    #| hide\n",
    "    import nbdev; nbdev.nbdev_export()\n",
    "    ```"
   ]
  }
 ],
 "metadata": {},
 "nbformat": 4,
 "nbformat_minor": 2
}
