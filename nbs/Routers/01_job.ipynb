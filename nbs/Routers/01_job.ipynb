{
 "cells": [
  {
   "cell_type": "markdown",
   "metadata": {},
   "source": [
    "# Tools\n",
    "\n",
    "> Helper functions for polcies APIs processing"
   ]
  },
  {
   "cell_type": "code",
   "execution_count": null,
   "metadata": {},
   "outputs": [],
   "source": [
    "#| default_exp policy/helper/tools"
   ]
  },
  {
   "cell_type": "code",
   "execution_count": null,
   "metadata": {},
   "outputs": [],
   "source": [
    "# | export\n",
    "def apply_markdown(\n",
    "    doamin,  # Single `Domain` object of standard\n",
    "    index,  # Index of domain in the standard\n",
    ") -> str:  # Markdown string of the entire domain\n",
    "    \"\"\"\n",
    "    Generate controls Markdown for generate policies and controls, domain should contain(domainId, Control[controlId, name and description])\n",
    "\n",
    "    - Apply markdown on control `name` & `description`\n",
    "    - Apply Indexing on `DomainId`\n",
    "    - Apply Indexing on `controlId`\n",
    "    \"\"\"\n",
    "    doamin[\"DomainId\"] = f'{index}:{doamin[\"DomainId\"]}'\n",
    "    markdown_output = []\n",
    "    for control in doamin[\"Controls\"]:\n",
    "        control[\"controlId\"] = doamin[\"DomainId\"] + \":\" + control[\"controlId\"]\n",
    "        mkd = (\n",
    "            f\"**{control['controlId']} - {control['name']}**: {control['description']}\"\n",
    "        )\n",
    "        markdown_output.append(mkd)\n",
    "        control[\"markdown\"] = mkd\n",
    "    return markdown_output"
   ]
  },
  {
   "cell_type": "code",
   "execution_count": null,
   "metadata": {},
   "outputs": [],
   "source": [
    "#| hide\n",
    "import nbdev; nbdev.nbdev_export()"
   ]
  }
 ],
 "metadata": {},
 "nbformat": 4,
 "nbformat_minor": 2
}
