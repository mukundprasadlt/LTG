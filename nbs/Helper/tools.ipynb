{
 "cells": [
  {
   "cell_type": "markdown",
   "metadata": {},
   "source": [
    "# Tools\n",
    "\n",
    "> Helper functions for polcies APIs processing"
   ]
  },
  {
   "cell_type": "code",
   "execution_count": null,
   "metadata": {},
   "outputs": [],
   "source": [
    "#| default_exp policy/helper/tools"
   ]
  },
  {
   "cell_type": "code",
   "execution_count": null,
   "metadata": {},
   "outputs": [],
   "source": [
    "# | export\n",
    "def apply_markdown(\n",
    "    doamin,  # Single `Domain` object of standard\n",
    "    index,  # Index of domain in the standard\n",
    ") -> str:  # Markdown string of the entire domain\n",
    "    \"\"\"\n",
    "    Generate controls Markdown for generate policies and controls, domain should contain(domainId, Control[controlId, name and description])\n",
    "\n",
    "    - Apply markdown on control `name` & `description`\n",
    "    - Apply Indexing on `DomainId`\n",
    "    - Apply Indexing on `controlId`\n",
    "    \"\"\"\n",
    "    doamin[\"DomainId\"] = f'{index}:{doamin[\"DomainId\"]}'\n",
    "    markdown_output = []\n",
    "    for control in doamin[\"Controls\"]:\n",
    "        control[\"controlId\"] = doamin[\"DomainId\"] + \":\" + control[\"controlId\"]\n",
    "        mkd = (\n",
    "            f\"**{control['controlId']} - {control['name']}**: {control['description']}\"\n",
    "        )\n",
    "        markdown_output.append(mkd)\n",
    "        control[\"markdown\"] = mkd\n",
    "    return markdown_output"
   ]
  },
  {
   "cell_type": "code",
   "execution_count": null,
   "metadata": {},
   "outputs": [
    {
     "data": {
      "text/plain": [
       "['**0:4:4.1 - Monitoring**: Description of the Monitoring control',\n",
       " '**0:4:4.1.1 - Measurement**: Description of the Measurement control']"
      ]
     },
     "execution_count": null,
     "metadata": {},
     "output_type": "execute_result"
    }
   ],
   "source": [
    "domain = {\n",
    "    \"DomainId\": \"4\",\n",
    "    \"Domain\": \"Performance evaluation\",\n",
    "    \"Controls\": [\n",
    "        {\n",
    "            \"controlId\": \"4.1\",\n",
    "            \"name\": \"Monitoring\",\n",
    "            \"description\": \"Description of the Monitoring control\",\n",
    "        },\n",
    "        {\n",
    "            \"controlId\": \"4.1.1\",\n",
    "            \"name\": \"Measurement\",\n",
    "            \"description\": \"Description of the Measurement control\",\n",
    "        },\n",
    "    ],\n",
    "}\n",
    "apply_markdown(domain, 0)"
   ]
  },
  {
   "cell_type": "code",
   "execution_count": null,
   "metadata": {},
   "outputs": [],
   "source": [
    "#| hide\n",
    "# Test case for apply_markdown\n",
    "domain = {\n",
    "    \"DomainId\": \"4\",\n",
    "    \"Domain\": \"Performance evaluation\",\n",
    "    \"Controls\": [\n",
    "        {\n",
    "            \"controlId\": \"4.1\",\n",
    "            \"name\": \"Monitoring\",\n",
    "            \"description\": \"Description of the Monitoring control\",\n",
    "        },\n",
    "        {\n",
    "            \"controlId\": \"4.1.1\",\n",
    "            \"name\": \"Measurement\",\n",
    "            \"description\": \"Description of the Measurement control\",\n",
    "        },\n",
    "    ],\n",
    "}\n",
    "expected_output = [\n",
    "    \"**0:4:4.1 - Monitoring**: Description of the Monitoring control\",\n",
    "    \"**0:4:4.1.1 - Measurement**: Description of the Measurement control\"\n",
    "]\n",
    "def_output = apply_markdown(domain, 0)\n",
    "assert expected_output == def_output # success test case\n",
    "\n",
    "# Failed test case\n",
    "domain = {\n",
    "    \"DomainId\": \"4\",\n",
    "    \"Domain\": \"Performance evaluation\",\n",
    "    \"Controls\": [\n",
    "        {\n",
    "            \"controlId\": \"4.1\",\n",
    "            \"name\": \"Monitoring\",\n",
    "            \"description\": \"Description of the Monitoring control\",\n",
    "        }\n",
    "    ],\n",
    "}\n",
    "expected_output_fail = [\n",
    "    \"**1:4:4.1 - Monitoring**: Description of the Monitoring control\",\n",
    "]\n",
    "def_output = apply_markdown(domain, 0)\n",
    "assert not expected_output_fail == def_output"
   ]
  },
  {
   "cell_type": "code",
   "execution_count": null,
   "metadata": {},
   "outputs": [],
   "source": [
    "# | export\n",
    "def apply_markdown_gap(\n",
    "    doamin, # Single Domain object of standard \n",
    "    index # Index of domain in the standard\n",
    ") -> str:  # Markdown string of the entire domain\n",
    "    \"\"\"\n",
    "    Generate controls Markdown for gap analysis, domain should contain(domainId, Control[controlId, name and description])\n",
    "\n",
    "    - Apply markdown on control `name` & `description`\n",
    "    - Apply Indexing on `DomainId`\n",
    "    - Apply Indexing on `controlId`\n",
    "    \"\"\"\n",
    "    doamin[\"domain_number\"] = f'{index}:{doamin[\"domain_number\"]}'\n",
    "    markdown_output = []\n",
    "    for control in doamin[\"controls\"]:\n",
    "        control[\"control_number\"] = doamin[\"domain_number\"] + \":\" + control[\"control_number\"]\n",
    "        mkd = f\"**{control['control_number']} - {control['control_name']}**: {control['control_description']}\"\n",
    "        markdown_output.append(mkd)\n",
    "        control[\"markdown\"] = mkd\n",
    "    return markdown_output"
   ]
  },
  {
   "cell_type": "code",
   "execution_count": null,
   "metadata": {},
   "outputs": [
    {
     "data": {
      "text/plain": [
       "['**0:8:8.1 - User Endpoint Devices**: Ensure that information stored on user devices is protected with security configurations and policies.',\n",
       " '**0:8:8.3 - Remote Access Control**: Ensure secure remote access to information systems and networks.']"
      ]
     },
     "execution_count": null,
     "metadata": {},
     "output_type": "execute_result"
    }
   ],
   "source": [
    "domain = {\n",
    "    \"domain_name\": \"Access Control\",\n",
    "    \"domain_number\": \"8\",\n",
    "    \"controls\": [\n",
    "        {\n",
    "            \"control_number\": \"8.1\",\n",
    "            \"control_name\": \"User Endpoint Devices\",\n",
    "            \"control_description\": \"Ensure that information stored on user devices is protected with security configurations and policies.\"\n",
    "        },\n",
    "        {\n",
    "            \"control_number\": \"8.3\",\n",
    "            \"control_name\": \"Remote Access Control\",\n",
    "            \"control_description\": \"Ensure secure remote access to information systems and networks.\"\n",
    "        }\n",
    "    ]\n",
    "}\n",
    "apply_markdown_gap({**domain},0)"
   ]
  },
  {
   "cell_type": "code",
   "execution_count": null,
   "metadata": {},
   "outputs": [],
   "source": [
    "#| hide #Test case\n",
    "\n",
    "\n",
    "domain = {\n",
    "    \"domain_name\": \"Access Control\",\n",
    "    \"domain_number\": \"8\",\n",
    "    \"controls\": [\n",
    "        {\n",
    "            \"control_number\": \"8.1\",\n",
    "            \"control_name\": \"User Endpoint Devices\",\n",
    "            \"control_description\": \"Ensure that information stored on user devices is protected with security configurations and policies.\"\n",
    "        }\n",
    "    ]\n",
    "}\n",
    "expected_output = [\n",
    "    \"**0:8:8.1 - User Endpoint Devices**: Ensure that information stored on user devices is protected with security configurations and policies.\"\n",
    "]\n",
    "def_output = apply_markdown_gap(domain, 0)\n",
    "assert expected_output == def_output #success test case\n",
    "# Failed test case\n",
    "domain = {\n",
    "    \"domain_name\": \"Access Control\",\n",
    "    \"domain_number\": \"8\",\n",
    "    \"controls\": [\n",
    "        {\n",
    "            \"control_number\": \"8.1\",\n",
    "            \"control_name\": \"User Endpoint Devices\",\n",
    "            \"control_description\": \"Ensure that information stored on user devices is protected with security configurations and policies.\"\n",
    "        }\n",
    "    ]\n",
    "}\n",
    "expected_output_fail = [\n",
    "    \"**0:8:8.1 - User Endpoint Devices**: Ensure that information stored on user devices is protected with security configurations and policies.\",\n",
    "    \"**0:8:8.2 - Remote Access Control**: Ensure secure remote access to information systems and networks.\"\n",
    "]\n",
    "def_output = apply_markdown_gap(domain, 0)\n",
    "assert not expected_output_fail == def_output"
   ]
  },
  {
   "cell_type": "code",
   "execution_count": null,
   "metadata": {},
   "outputs": [],
   "source": [
    "# | export\n",
    "def merge_sets(\n",
    "    setA, # First set to merge \n",
    "    setB # Second set to merge\n",
    ") -> list:  # List of merged sets\n",
    "    \"Merge two sets of controls, combining overlapping subsets\"\n",
    "    merged_set = setA.copy()\n",
    "    result = []\n",
    "    for subset in setB:\n",
    "        if merged_set & subset:\n",
    "            merged_set |= subset\n",
    "        else:\n",
    "            result.append(subset)\n",
    "    result.insert(0, merged_set)\n",
    "    return result"
   ]
  },
  {
   "cell_type": "code",
   "execution_count": null,
   "metadata": {},
   "outputs": [
    {
     "data": {
      "text/plain": [
       "[{1, 2, 3, 4}, {5}]"
      ]
     },
     "execution_count": null,
     "metadata": {},
     "output_type": "execute_result"
    }
   ],
   "source": [
    "setA = {1, 2, 3}\n",
    "setB = [{2, 4}, {5}]\n",
    "merge_sets(setA, setB)"
   ]
  },
  {
   "cell_type": "code",
   "execution_count": null,
   "metadata": {},
   "outputs": [],
   "source": [
    "#| hide\n",
    "setA = {1, 2, 3}\n",
    "setB = [{2, 4}, {5}]\n",
    "result = merge_sets(setA, setB)\n",
    "assert result[0] == {1, 2, 3, 4}"
   ]
  },
  {
   "cell_type": "code",
   "execution_count": null,
   "metadata": {},
   "outputs": [],
   "source": [
    "#| export\n",
    "def create_policy_markdown(doamin): # Single `Domain` object of standard\n",
    "    \"Create markdown for policy processing\"\n",
    "    markdown_output = f\"\"\"\n",
    "    ### Domain: {doamin['domain']}\n",
    "    #### Controls:\n",
    "    \"\"\"\n",
    "    for control in doamin['Controls']:\n",
    "        markdown_output += f\"\"\"\n",
    "    - **Control ID**: {control['id']}\n",
    "      - **Name**: {control['name']}\n",
    "      - **Description**: {control['description']}\n",
    "    \"\"\"\n",
    "    return markdown_output"
   ]
  },
  {
   "cell_type": "code",
   "execution_count": null,
   "metadata": {},
   "outputs": [
    {
     "data": {
      "text/plain": [
       "'\\n    ### Domain: Test Domain\\n    #### Controls:\\n    \\n    - **Control ID**: 1\\n      - **Name**: Control Name\\n      - **Description**: Description\\n    '"
      ]
     },
     "execution_count": null,
     "metadata": {},
     "output_type": "execute_result"
    }
   ],
   "source": [
    "test_obj = {\"domain\": \"Test Domain\", \"Controls\": [{\"id\": \"1\", \"name\": \"Control Name\", \"description\": \"Description\"}]}\n",
    "create_policy_markdown(test_obj)"
   ]
  },
  {
   "cell_type": "code",
   "execution_count": null,
   "metadata": {},
   "outputs": [],
   "source": [
    "#| hide\n",
    "test_obj = {\"domain\": \"Test Domain\", \"Controls\": [{\"id\": \"1\", \"name\": \"Control Name\", \"description\": \"Description\"}]}\n",
    "result = create_policy_markdown(test_obj)\n",
    "assert \"Test Domain\" in result\n",
    "assert \"Control Name\" in result"
   ]
  },
  {
   "cell_type": "code",
   "execution_count": null,
   "metadata": {},
   "outputs": [],
   "source": [
    "#| hide\n",
    "import nbdev; nbdev.nbdev_export()"
   ]
  }
 ],
 "metadata": {
  "kernelspec": {
   "display_name": "python3",
   "language": "python",
   "name": "python3"
  }
 },
 "nbformat": 4,
 "nbformat_minor": 2
}
