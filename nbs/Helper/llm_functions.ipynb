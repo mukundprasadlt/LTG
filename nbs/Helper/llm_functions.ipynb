{
 "cells": [
  {
   "cell_type": "markdown",
   "metadata": {},
   "source": [
    "# LLM Models\n",
    "\n",
    "> Helper functions for LLM Models"
   ]
  },
  {
   "cell_type": "code",
   "execution_count": null,
   "metadata": {},
   "outputs": [],
   "source": [
    "#| default_exp policy/helper/llm_functions"
   ]
  },
  {
   "cell_type": "code",
   "execution_count": null,
   "metadata": {},
   "outputs": [],
   "source": [
    "#| export\n",
    "from langchain_openai import AzureOpenAIEmbeddings, AzureChatOpenAI\n",
    "from app.configs.settings import settings\n",
    "from langchain_ollama import ChatOllama, OllamaEmbeddings"
   ]
  },
  {
   "cell_type": "code",
   "execution_count": null,
   "metadata": {},
   "outputs": [],
   "source": [
    "#| export\n",
    "def init_azure_openai_llm():\n",
    "    \"Azure OpenAI gpt-4o model instance\"\n",
    "    llm = AzureChatOpenAI(\n",
    "        openai_api_version = settings.common_secrets.azure_openai_api_version,\n",
    "        azure_deployment = settings.common_secrets.azure_openai_deployment_id,\n",
    "        api_key = settings.common_secrets.azure_openai_api_key,\n",
    "        azure_endpoint = settings.common_secrets.azure_openai_endpoint,\n",
    "        temperature=0,\n",
    "        max_tokens=4096,\n",
    "        timeout=None,\n",
    "        max_retries=2,\n",
    "    )\n",
    "    return llm"
   ]
  },
  {
   "cell_type": "code",
   "execution_count": null,
   "metadata": {},
   "outputs": [
    {
     "data": {
      "text/plain": [
       "'4 + 5 equals 9.'"
      ]
     },
     "execution_count": null,
     "metadata": {},
     "output_type": "execute_result"
    }
   ],
   "source": [
    "llm = init_azure_openai_llm()\n",
    "llm.invoke(\"what is 4+5\").content"
   ]
  },
  {
   "cell_type": "code",
   "execution_count": null,
   "metadata": {},
   "outputs": [],
   "source": [
    "#| export\n",
    "def init_ollama_llm():\n",
    "    \"Ollama Llama3.2 model instance\"\n",
    "    # llm = ChatOllama(model=\"llama3.2\")\n",
    "    llm = ChatOllama(\n",
    "        base_url=\"http://135.232.123.7:11434\",\n",
    "        model=\"llama3.3:70b-instruct-q8_0\"\n",
    "    )\n",
    "    return llm  \n"
   ]
  },
  {
   "cell_type": "code",
   "execution_count": null,
   "metadata": {},
   "outputs": [
    {
     "data": {
      "text/plain": [
       "'4 + 5 = 9'"
      ]
     },
     "execution_count": null,
     "metadata": {},
     "output_type": "execute_result"
    }
   ],
   "source": [
    "llm = init_ollama_llm()\n",
    "llm.invoke(\"what is 4+5\").content"
   ]
  },
  {
   "cell_type": "code",
   "execution_count": null,
   "metadata": {},
   "outputs": [],
   "source": [
    "#| export\n",
    "# TODO: change the function name with init_llm(Ollama,Azure)\n",
    "def init_azure_llm(type = 'Ollama'):\n",
    "    \"Azure OpenAI gpt-4o model instance\"\n",
    "    if type == 'Ollama':\n",
    "        return init_ollama_llm()\n",
    "    if type == 'Azure':\n",
    "        return init_azure_openai_llm()\n",
    "    return None"
   ]
  },
  {
   "cell_type": "code",
   "execution_count": null,
   "metadata": {},
   "outputs": [
    {
     "data": {
      "text/plain": [
       "'4 + 5 = 9'"
      ]
     },
     "execution_count": null,
     "metadata": {},
     "output_type": "execute_result"
    }
   ],
   "source": [
    "llm = init_azure_llm()\n",
    "llm.invoke(\"what is 4+5\").content"
   ]
  },
  {
   "cell_type": "code",
   "execution_count": null,
   "metadata": {},
   "outputs": [],
   "source": [
    "#| export \n",
    "def get_ollama_embedding(array):\n",
    "    # embeddings = OllamaEmbeddings(\n",
    "    #     model=\"llama3.2\"\n",
    "    # )\n",
    "    embeddings = OllamaEmbeddings(\n",
    "        base_url=\"http://135.232.123.7:11434\",\n",
    "        model=\"llama3.3:70b-instruct-q8_0\"\n",
    "    )\n",
    "    # Generate embeddings for each document\n",
    "    embedding = embeddings.embed_documents(array)\n",
    "    # embedding = embeddings.embed_documents(array)\n",
    "    return embedding"
   ]
  },
  {
   "cell_type": "code",
   "execution_count": null,
   "metadata": {},
   "outputs": [
    {
     "name": "stdout",
     "output_type": "stream",
     "text": [
      "No of vectors 2  of  8192 size\n",
      "Vector 1 [0.00090003916, -0.008852661, -0.0074942918, 0.002944415, 0.009286398]\n",
      "Vector 1 [0.0, 0.0, 0.0, 0.0, 0.0]\n"
     ]
    }
   ],
   "source": [
    "sample_data = ['Text 1', 'Text 2']\n",
    "results = get_ollama_embedding(sample_data)\n",
    "print(\"No of vectors\",len(results),\" of \",len(results[0]),'size')\n",
    "print(\"Vector 1\",results[0][:5])\n",
    "print(\"Vector 1\",results[1][:5])"
   ]
  },
  {
   "cell_type": "code",
   "execution_count": null,
   "metadata": {},
   "outputs": [],
   "source": [
    "#| export\n",
    "def get_azure_openai_embedding(array):#list of string\n",
    "    \"Using Azure OpenAI text-embedding-3-large model for embeddings\"\n",
    "    embeddings = AzureOpenAIEmbeddings(\n",
    "        azure_deployment=\"text-embedding-3-large\",\n",
    "        api_key = settings.common_secrets.azure_openai_api_key,\n",
    "        azure_endpoint = settings.common_secrets.azure_openai_endpoint,\n",
    "    )\n",
    "\n",
    "    # Generate embeddings for each document\n",
    "    # embedding = embeddings.embed_query(text)\n",
    "    embedding = embeddings.embed_documents(array)\n",
    "    return embedding"
   ]
  },
  {
   "cell_type": "code",
   "execution_count": null,
   "metadata": {},
   "outputs": [
    {
     "name": "stdout",
     "output_type": "stream",
     "text": [
      "No of vectors 2  of  3072 size\n",
      "Vector 1 [0.016161445528268814, 0.0029149053152650595, -0.0036840096581727266, -0.00524016423150897, 0.026518717408180237]\n",
      "Vector 1 [0.029930606484413147, 0.020368576049804688, -0.016199447214603424, -0.011128045618534088, 0.03714879974722862]\n"
     ]
    }
   ],
   "source": [
    "sample_data = ['Text 1', 'Text 2']\n",
    "results = get_azure_openai_embedding(sample_data)\n",
    "print(\"No of vectors\",len(results),\" of \",len(results[0]),'size')\n",
    "print(\"Vector 1\",results[0][:5])\n",
    "print(\"Vector 1\",results[1][:5])"
   ]
  },
  {
   "cell_type": "markdown",
   "metadata": {},
   "source": [
    "Applying cosine similarity"
   ]
  },
  {
   "cell_type": "code",
   "execution_count": null,
   "metadata": {},
   "outputs": [
    {
     "data": {
      "text/plain": [
       "array([[1.      , 0.794463],\n",
       "       [0.794463, 1.      ]])"
      ]
     },
     "execution_count": null,
     "metadata": {},
     "output_type": "execute_result"
    }
   ],
   "source": [
    "#| eval: false\n",
    "from sklearn.metrics.pairwise import cosine_distances\n",
    "sample_data = [\n",
    "    'Information stored on user endpoint devices should be protected through proper security configurations and device management policies.', \n",
    "    'Ensure that information stored on user devices is protected with security configurations and policies.']\n",
    "results = get_azure_openai_embedding(sample_data)\n",
    "cosine_dist = cosine_distances(results)\n",
    "1 - cosine_dist"
   ]
  },
  {
   "cell_type": "code",
   "execution_count": null,
   "metadata": {},
   "outputs": [
    {
     "name": "stdout",
     "output_type": "stream",
     "text": [
      "[[0.1, 0.2, 0.3], [0.4, 0.5, 0.6]]\n"
     ]
    }
   ],
   "source": [
    "#| hide\n",
    "import unittest\n",
    "from unittest.mock import patch\n",
    "\n",
    "@patch('langchain_openai.AzureOpenAIEmbeddings.embed_documents')\n",
    "def test_get_openai_embedding(mock_embed_documents):\n",
    "    # Mock the return value of embed_documents\n",
    "    mock_embed_documents.return_value = [[0.1, 0.2, 0.3], [0.4, 0.5, 0.6]]\n",
    "\n",
    "    # Sample data to test\n",
    "    sample_data = ['Text 1', 'Text 2']\n",
    "\n",
    "    # Call the function\n",
    "    result = get_azure_openai_embedding(sample_data)\n",
    "    print(result)\n",
    "    # Check if the result is as expected\n",
    "    assert result == [[0.1, 0.2, 0.3], [0.4, 0.5, 0.6]]\n",
    "\n",
    "    # Check if embed_documents was called with the correct arguments\n",
    "    mock_embed_documents.assert_called_once_with(sample_data)\n",
    "\n",
    "# Run the test\n",
    "test_get_openai_embedding()\n"
   ]
  },
  {
   "cell_type": "code",
   "execution_count": null,
   "metadata": {},
   "outputs": [],
   "source": [
    "#| export\n",
    "def get_openai_embedding(array,type = 'Ollama'):#Either 'Azure' or 'Ollama'\n",
    "    \"\"\"Retrieve the embedding from either Azure OpenAI or Ollama.\"\"\"\n",
    "    if type == 'Ollama':\n",
    "        return get_ollama_embedding(array)\n",
    "    if type == 'Azure':\n",
    "        return get_azure_openai_embedding(array)\n",
    "    return None"
   ]
  },
  {
   "cell_type": "code",
   "execution_count": null,
   "metadata": {},
   "outputs": [
    {
     "name": "stdout",
     "output_type": "stream",
     "text": [
      "No of vectors 2  of  8192 size\n",
      "Vector 1 [0.0073995544, -0.07278099, -0.06161334, 0.024207123, 0.076346904]\n",
      "Vector 1 [0.009282724, 0.00527284, -0.0050344, -0.002213817, 0.013588943]\n"
     ]
    }
   ],
   "source": [
    "sample_data = ['Text 1', 'Text 2']\n",
    "results = get_openai_embedding(sample_data)\n",
    "print(\"No of vectors\",len(results),\" of \",len(results[0]),'size')\n",
    "print(\"Vector 1\",results[0][:5])\n",
    "print(\"Vector 1\",results[1][:5])"
   ]
  },
  {
   "cell_type": "code",
   "execution_count": null,
   "metadata": {},
   "outputs": [],
   "source": [
    "#| hide\n",
    "import nbdev; nbdev.nbdev_export()"
   ]
  }
 ],
 "metadata": {
  "kernelspec": {
   "display_name": "python3",
   "language": "python",
   "name": "python3"
  }
 },
 "nbformat": 4,
 "nbformat_minor": 2
}
