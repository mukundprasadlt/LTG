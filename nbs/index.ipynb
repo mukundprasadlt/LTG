{
 "cells": [
  {
   "cell_type": "markdown",
   "metadata": {},
   "source": [
    "# LT Genius APIs\n",
    "\n",
    "> LTGenius (LTG) is an AI-driven engine that plays a pivotal role in the governance and compliance ecosystem by automating the generation of policies and controls and performing compliance gap analysis. Built as a byproduct of the LockThreat platform, LTGenius optimizes and streamlines policy and control generation and identifies gaps in policies and controls. "
   ]
  },
  {
   "cell_type": "markdown",
   "metadata": {},
   "source": [
    "[LTG - DOCs - ReadMe](https://cirruslabsio.sharepoint.com/:w:/s/AICOE-CL-GRP/EdsWQvZUZJBKgNqYBWBD6SIBFn2jPNAk_BckVlcRR0m-Cw?e=ChQ40m0)"
   ]
  },
  {
   "cell_type": "markdown",
   "metadata": {},
   "source": [
    "## APIs\n",
    "- Control API: The API splits the controls from the standard and applies an embedding process, followed by Cosine Similarity on the controls' vector. This allows the API to Merge Control's Content and generate a new set of controls. Finally, the API generates a JSON output with the new set of controls. \n",
    "\n",
    "- Policy API: The API splits the controls from the standard and applies an embedding process. It then performs Cosine Similarity on the controls' vector and merges the controls' content, ultimately generating a new set of policies as output. \n",
    "\n",
    "- Control GAP Analyzer: The API splits the controls from the standard and applies an embedding process. The system then identifies gaps in the controls by comparing the embedded controls with the policy, categorizing them as 70% <= Matched, 70-50% = GAP, and 50%> Missing. Finally, the system generates a ZIP (GAP_JSON) output containing the gap analysis report. \n",
    "\n",
    "- Policy GAP Analyzer: The API splits the controls from the standard and then compares each control against the given policy. This allows the system to generate a gap analysis report, which is output as a ZIP (GAP_JSON) file."
   ]
  },
  {
   "cell_type": "markdown",
   "metadata": {},
   "source": [
    "[Azure DevOps](https://dev.azure.com/CirrusLabsData/CirrusAI/_git/cirrusai-It-genius-api)"
   ]
  },
  {
   "cell_type": "markdown",
   "metadata": {},
   "source": [
    "## GIT Branches\n",
    "- dev       -> Dev sync\n",
    "- staging   -> Development Build\n",
    "- main      -> Production Build"
   ]
  },
  {
   "cell_type": "markdown",
   "metadata": {},
   "source": [
    "## Installation \n",
    "### Setting up the environment\n",
    "```shell\n",
    "pyenv install 3.11.0\n",
    "pyenv shell 3.11.0\n",
    "poetry config virtualenvs.create true\n",
    "poetry env use ~/.pyenv/versions/3.11.0/bin/python\n",
    "poetry install\n",
    "poetry shell\n",
    "```"
   ]
  },
  {
   "cell_type": "markdown",
   "metadata": {},
   "source": [
    "### Running with docker-compose Locally\n",
    "\n",
    "This project folder includes a Dockerfile and docker-compose.yml that allows you to easily build and host your LangServe app.\n",
    "\n",
    "To run the image, you'll need to include any environment variables\n",
    "necessary for your application. Create .env file from.env.template and populate the values.\n",
    "\n",
    "```shell\n",
    "docker-compose build\n",
    "docker-compose up -d\n",
    "docker-compose down\n",
    "```"
   ]
  },
  {
   "cell_type": "markdown",
   "metadata": {},
   "source": [
    "### Running Locally with Poetry\n",
    "\n",
    "```shell\n",
    "pyenv install 3.11.0\n",
    "pyenv shell 3.11.0\n",
    "poetry config virtualenvs.create true\n",
    "poetry env use ~/.pyenv/versions/3.11.0/bin/python\n",
    "poetry install\n",
    "poetry shell\n",
    "make start\n",
    "```"
   ]
  },
  {
   "cell_type": "markdown",
   "metadata": {},
   "source": [
    "### Running locally with conda env\n",
    "conda activate <name of your virtual env created using conda>"
   ]
  },
  {
   "cell_type": "markdown",
   "metadata": {},
   "source": [
    "### Running Lint and fromating (optional - recomended before pushing to remote)\n",
    "\n",
    "```shell\n",
    "make lint\n",
    "make format\n",
    "```"
   ]
  },
  {
   "cell_type": "markdown",
   "metadata": {},
   "source": [
    "### Running Unit Test (optional - recomended before pushing to remote)\n",
    "\n",
    "```shell\n",
    "make test\n",
    "\n",
    "```"
   ]
  },
  {
   "cell_type": "markdown",
   "metadata": {},
   "source": [
    "### Mock job storage for demo purposes"
   ]
  },
  {
   "cell_type": "code",
   "execution_count": null,
   "metadata": {},
   "outputs": [],
   "source": [
    "mock_jobs = {\n",
    "    \"12345\": {\n",
    "        \"status\": \"completed\",\n",
    "        \"start_time\": \"2024-08-21T10:00:00Z\",\n",
    "        \"end_time\": \"2024-08-21T10:15:00Z\",\n",
    "        \"errors\": []\n",
    "    },\n",
    "    \"67890\": {\n",
    "        \"status\": \"running\",\n",
    "        \"start_time\": \"2024-08-21T10:00:00Z\",\n",
    "        \"end_time\": None,\n",
    "        \"errors\": []\n",
    "    },\n",
    "}"
   ]
  },
  {
   "cell_type": "markdown",
   "metadata": {},
   "source": [
    "# Deployment Guide"
   ]
  },
  {
   "cell_type": "markdown",
   "metadata": {},
   "source": [
    "## **LTG Tech stack**\n",
    "- **Python**: Language\n",
    "- **FastAPI**: Framework for API\n",
    "- **LangChain**: Integrate/ Manage LLM Agents\n",
    "- **nbDev**: Code Documentation & unit-testing\n",
    "- **pyTest**: Unit-Testing\n",
    "- **Poetry**: dependencies management\n",
    "- **MakeFile**: shell execution & env setup\n",
    "- **GIT**: Code Management\n",
    "- **Azure**: Cloud Service\n",
    "- **Azure DevOps**: Git Repositories\n",
    "- **Docker**: Containerize App\n",
    "- **Kubernetes/AKS**: Manage Containers\n",
    "- **Blob Storage**: Storing Policy/Controls Output\n",
    "- **Elasticsearch**: Database "
   ]
  },
  {
   "cell_type": "markdown",
   "metadata": {},
   "source": [
    "### Git Flow:\n",
    "- **dev** -> complete code for each sprint\n",
    "- **staging** -> deploy on staging \n",
    "- **prod** -> deploy on production env"
   ]
  },
  {
   "cell_type": "markdown",
   "metadata": {},
   "source": [
    "### Must have:\n",
    "- Dcoument each for function with nbdev\n",
    "  - nbdev_preview -> code doc preview\n",
    "- Add a sample function execution \n",
    "- Test-cases for each funtion\n",
    "- create brach name [ticket-no]/[short-task-name] like **LG-346/generate-policies**\n",
    "- create PR to dev branch\n",
    "- "
   ]
  }
 ],
 "metadata": {
  "kernelspec": {
   "display_name": "python3",
   "language": "python",
   "name": "python3"
  }
 },
 "nbformat": 4,
 "nbformat_minor": 4
}
