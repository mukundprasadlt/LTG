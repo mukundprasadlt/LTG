{
 "cells": [
  {
   "cell_type": "markdown",
   "metadata": {},
   "source": [
    "# Job Tracker\n",
    "\n",
    "> Job Status & Job Results\n"
   ]
  },
  {
   "cell_type": "code",
   "execution_count": null,
   "metadata": {},
   "outputs": [],
   "source": [
    "#| default_exp policy/job_tracker"
   ]
  },
  {
   "cell_type": "code",
   "execution_count": null,
   "metadata": {},
   "outputs": [],
   "source": [
    "#| export\n",
    "import os\n",
    "import json\n",
    "from typing import List, Dict, Set, Tuple, Sequence, Optional, Any, TypeVar, Union, Callable, Type\n",
    "import uuid\n",
    "from enum import Enum\n",
    "import arrow\n",
    "from app.modules import logger\n",
    "from app.configs.clients import SQLClient, BlobServiceClient, CustomException\n",
    "from app.configs.settings import settings\n",
    "from fastcore.basics import *"
   ]
  },
  {
   "cell_type": "code",
   "execution_count": null,
   "metadata": {},
   "outputs": [],
   "source": [
    "#| export\n",
    "class JobStatus(Enum):\n",
    "    \"Enum Class for Job status(pending, inprogress, completed, failed)\"\n",
    "    create = \"PENDING\"\n",
    "    inprogress = \"INPROGRESS\"\n",
    "    completed = \"COMPLETED\"\n",
    "    failed = \"FAILED\""
   ]
  },
  {
   "cell_type": "code",
   "execution_count": null,
   "metadata": {},
   "outputs": [],
   "source": [
    "#| export\n",
    "class JobTracker:\n",
    "    \"\"\"\n",
    "    Job Handler:\n",
    "        - to take request and push to background\n",
    "        - get job status\n",
    "        - get job results once completed\n",
    "    \"\"\"\n",
    "    def __init__(self):\n",
    "        self.links_prefix = \"\""
   ]
  },
  {
   "cell_type": "code",
   "execution_count": null,
   "metadata": {},
   "outputs": [],
   "source": [
    "#| export\n",
    "@patch_to(JobTracker)\n",
    "async def generate_sql_connection(self):\n",
    "    \"Create SQL Connection\"\n",
    "    sql_client = SQLClient()\n",
    "    self.sql_connection, self.sql_cursor = await sql_client.client()"
   ]
  },
  {
   "cell_type": "code",
   "execution_count": null,
   "metadata": {},
   "outputs": [],
   "source": [
    "#| export\n",
    "@patch_to(JobTracker)\n",
    "async def generate_job_id(self, job_request): #job details[job_type, operation]\n",
    "    \"Generator job_id for the job request\"\n",
    "    try:\n",
    "        logger.info(\"On generate_job_id method\")\n",
    "        if job_request['operation'] != 'create':\n",
    "            msg = f\"Invalid SQL operation: job_request: {job_request}\"\n",
    "            raise CustomException(msg, code = 500)\n",
    "        await self.generate_sql_connection()\n",
    "        job_request['job_id'] = \"job-\" + str(uuid.uuid4())\n",
    "        query = \"INSERT INTO jobsdatabase.{} (job_id, job_type, job_status, job_error, start_timestamp, end_timestamp) VALUES (%s, %s, %s, %s, %s, %s)\".format(settings.common_secrets.ltgenius_sql_table_name)\n",
    "        print(query)\n",
    "        values = (job_request['job_id'], job_request['job_type'], JobStatus[job_request[\"operation\"]].value, \"\", arrow.now().format('YYYY-MM-DD HH:mm:ss'), arrow.now().format('YYYY-MM-DD HH:mm:ss'))\n",
    "        await self.sql_cursor.execute(query, values)\n",
    "        await self.sql_connection.commit()\n",
    "        await self.sql_cursor.close()\n",
    "        await self.sql_connection.close()\n",
    "        resp = {\n",
    "            \"status\": \"success\",\n",
    "            \"job_id\": job_request['job_id'],\n",
    "            \"selflink\": f\"{self.links_prefix}/{job_request['job_id']}\"\n",
    "        }\n",
    "        return resp\n",
    "    except Exception as e:\n",
    "        msg = f\"Error while generating job-id. job_request: {job_request}, Error: {str(e)}\"\n",
    "        raise CustomException(msg, code = 500)"
   ]
  },
  {
   "cell_type": "code",
   "execution_count": null,
   "metadata": {},
   "outputs": [],
   "source": [
    "#| export\n",
    "@patch_to(JobTracker)\n",
    "async def update_job_id(self, job_request):#job details[job_type, operation]\n",
    "    try:\n",
    "        logger.info(\"On update_job_id method\")\n",
    "        self.job_request = job_request\n",
    "        await self.generate_sql_connection()\n",
    "        query = \"\"\"SELECT * FROM jobsdatabase.{} WHERE job_id = %s\"\"\".format(settings.common_secrets.ltgenius_sql_table_name)\n",
    "        values = (self.job_request['job_id'],)\n",
    "        await self.sql_cursor.execute(query, values)\n",
    "        job_data = await self.sql_cursor.fetchone()\n",
    "        query = \"\"\"UPDATE jobsdatabase.{} SET job_id = %s, job_type = %s, job_status = %s, job_error = %s, start_timestamp = %s, end_timestamp = %s WHERE job_id = %s\"\"\".format(settings.common_secrets.ltgenius_sql_table_name)\n",
    "        values = (self.job_request['job_id'], self.job_request['job_type'], JobStatus[job_request[\"operation\"]].value, self.job_request[\"job_error\"], job_data[4], arrow.now().format('YYYY-MM-DD HH:mm:ss'), self.job_request['job_id'])\n",
    "        await self.sql_cursor.execute(query, values)\n",
    "        await self.sql_connection.commit()\n",
    "    except Exception as e:\n",
    "        msg = f\"Error while updating job-id. job_request: {self.job_request}, Error: {str(e)}\"\n",
    "        await self.sql_cursor.close()\n",
    "        await self.sql_connection.close()\n",
    "        raise CustomException(msg, code = 500)\n",
    "    "
   ]
  },
  {
   "cell_type": "code",
   "execution_count": null,
   "metadata": {},
   "outputs": [],
   "source": [
    "#| export\n",
    "@patch_to(JobTracker)\n",
    "async def close_job(self):\n",
    "    try:\n",
    "        logger.info(\"On close_job method\")\n",
    "        await self.sql_cursor.close()\n",
    "        await self.sql_connection.close()\n",
    "    except Exception as e:\n",
    "        msg = f\"Error while closing the job. job_request: {self.job_request}, Error: {str(e)}\"\n",
    "        raise CustomException(msg, code = 500)\n"
   ]
  },
  {
   "cell_type": "code",
   "execution_count": null,
   "metadata": {},
   "outputs": [],
   "source": [
    "#| export\n",
    "@patch_to(JobTracker)\n",
    "async def search_job_id(self, job_request):\n",
    "    try:\n",
    "        logger.info(\"On search_job_id method\")\n",
    "        self.job_request = job_request\n",
    "        await self.generate_sql_connection()\n",
    "        query = \"\"\"SELECT * FROM jobsdatabase.{} WHERE job_id = %s\"\"\".format(settings.common_secrets.ltgenius_sql_table_name)\n",
    "        values = (self.job_request['job_id'],)\n",
    "        await self.sql_cursor.execute(query, values)\n",
    "        job_data = await self.sql_cursor.fetchone()\n",
    "        if not job_data:\n",
    "            msg = f\"job_id not found. job_request: {self.job_request}\"\n",
    "            raise CustomException(msg, code = 400)\n",
    "        await self.sql_connection.commit()\n",
    "        await self.sql_cursor.close()\n",
    "        await self.sql_connection.close()\n",
    "        logger.info(f\"job data details: {job_data}\")\n",
    "        return job_data\n",
    "    except Exception as e:\n",
    "        msg = f\"Error while searching job_id. job_request: {self.job_request}, Error: {str(e)}\"\n",
    "        await self.sql_cursor.close()\n",
    "        await self.sql_connection.close()\n",
    "        raise CustomException(msg, code = 500)    \n",
    "            "
   ]
  },
  {
   "cell_type": "code",
   "execution_count": null,
   "metadata": {},
   "outputs": [],
   "source": [
    "#| hide\n",
    "import nbdev; nbdev.nbdev_export()"
   ]
  }
 ],
 "metadata": {
  "kernelspec": {
   "display_name": "python3",
   "language": "python",
   "name": "python3"
  }
 },
 "nbformat": 4,
 "nbformat_minor": 2
}
