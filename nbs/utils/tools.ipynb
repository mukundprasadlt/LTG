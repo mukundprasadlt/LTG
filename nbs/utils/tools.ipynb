{
 "cells": [
  {
   "cell_type": "markdown",
   "metadata": {},
   "source": [
    "# Tools\n",
    "\n",
    "> functions for polcies apus"
   ]
  },
  {
   "cell_type": "markdown",
   "metadata": {},
   "source": [
    "### Function: create markdown of controls"
   ]
  },
  {
   "cell_type": "code",
   "execution_count": null,
   "metadata": {},
   "outputs": [],
   "source": [
    "def apply_markdown(f_obj,index):\n",
    "    f_obj['DomainId'] = f'{index}:{f_obj[\"DomainId\"]}'\n",
    "    markdown_output = []\n",
    "    for control in f_obj['Controls']:\n",
    "        control['controlId'] = f_obj['DomainId']+':'+control['controlId']\n",
    "        markdown_output.append(f\"**{control['controlId']} - {control['name']}**: {control['description']}\")\n",
    "        control['markdown'] = f\"**{control['controlId']} - {control['name']}**: {control['description']}\"\n",
    "    return markdown_output"
   ]
  },
  {
   "cell_type": "markdown",
   "metadata": {},
   "source": [
    "### Function: create markdown of controls GAP"
   ]
  },
  {
   "cell_type": "code",
   "execution_count": null,
   "metadata": {},
   "outputs": [],
   "source": [
    "def apply_markdown_gap(f_obj,index):\n",
    "    f_obj['domain_number'] = f'{index}:{f_obj[\"domain_number\"]}'\n",
    "    markdown_output = []\n",
    "    for control in f_obj['controls']:\n",
    "        control['control_number'] = f_obj['domain_number']+':'+control['control_number']\n",
    "        markdown_output.append(f\"**{control['control_number']} - {control['control_name']}**: {control['control_description']}\")\n",
    "        control['markdown'] = f\"**{control['control_number']} - {control['control_name']}**: {control['control_description']}\"\n",
    "    return markdown_output"
   ]
  },
  {
   "cell_type": "markdown",
   "metadata": {},
   "source": [
    "### Function: merge sets"
   ]
  },
  {
   "cell_type": "code",
   "execution_count": null,
   "metadata": {},
   "outputs": [],
   "source": [
    "def merge_sets(setA, setB):\n",
    "    merged_set = setA.copy()\n",
    "    result = []\n",
    "\n",
    "    for subset in setB:\n",
    "        if merged_set & subset:\n",
    "            merged_set |= subset\n",
    "        else:\n",
    "            result.append(subset)\n",
    "\n",
    "    result.insert(0, merged_set)\n",
    "    return result\n"
   ]
  },
  {
   "cell_type": "markdown",
   "metadata": {},
   "source": [
    "### Function to create markdown for policy"
   ]
  },
  {
   "cell_type": "code",
   "execution_count": null,
   "metadata": {},
   "outputs": [],
   "source": [
    "def create_policy_markdown(f_obj):\n",
    "    markdown_output = f\"\"\"\n",
    "    ### Domain: {f_obj['domain']}\n",
    "    #### Controls:\n",
    "    \"\"\"\n",
    "    for control in f_obj['Controls']:\n",
    "        markdown_output += f\"\"\"\n",
    "    - **Control ID**: {control['id']}\n",
    "      - **Name**: {control['name']}\n",
    "      - **Description**: {control['description']}\n",
    "    \"\"\"\n",
    "    return markdown_output"
   ]
  }
 ],
 "metadata": {
  "kernelspec": {
   "display_name": "python3",
   "language": "python",
   "name": "python3"
  }
 },
 "nbformat": 4,
 "nbformat_minor": 2
}
