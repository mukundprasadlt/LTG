{
 "cells": [
  {
   "cell_type": "markdown",
   "metadata": {},
   "source": [
    "# Sample notebook for testing LangChain applications"
   ]
  },
  {
   "cell_type": "code",
   "execution_count": 23,
   "metadata": {},
   "outputs": [],
   "source": [
    "from decouple import config\n",
    "\n",
    "OPENAI_API_KEY = config('OPENAI_API_KEY')"
   ]
  },
  {
   "cell_type": "markdown",
   "metadata": {},
   "source": [
    "### Prompt tamplates"
   ]
  },
  {
   "cell_type": "code",
   "execution_count": null,
   "metadata": {},
   "outputs": [],
   "source": [
    "from langchain.prompts import PromptTemplate\n",
    "from langchain.llms import OpenAI\n",
    "from langchain.chains import LLMChain\n",
    "\n",
    "prompt = PromptTemplate(\n",
    "    input_variables=[\"product\"],\n",
    "    template=\"What is a good name for a company that makes {product}?\",\n",
    ")\n",
    "\n",
    "print(prompt.format(product=\"podcast player\"))\n",
    "\n",
    "llm = OpenAI(\n",
    "          model_name=\"gpt-3.5-turbo-instruct\", # default model\n",
    "          temperature=0.9) #temperature dictates how whacky the output should be\n",
    "llmchain = LLMChain(llm=llm, prompt=prompt)\n",
    "\n",
    "llmchain.run(\"podcast player\")"
   ]
  },
  {
   "cell_type": "markdown",
   "metadata": {},
   "source": [
    "### Chains"
   ]
  },
  {
   "cell_type": "code",
   "execution_count": null,
   "metadata": {},
   "outputs": [],
   "source": [
    "from langchain.chat_models import ChatOpenAI\n",
    "from langchain.prompts import PromptTemplate\n",
    "from typing import Optional\n",
    "\n",
    "from langchain.chains.openai_functions import (\n",
    "    create_openai_fn_chain,\n",
    "    create_structured_output_chain,\n",
    ")\n",
    "\n",
    "llm = ChatOpenAI(model=\"gpt-3.5-turbo-instruct\", temperature=0.1)\n",
    "template = \"\"\"Use the given format to extract information from the following input: {input}. Make sure to answer in the correct format\"\"\"\n",
    "\n",
    "prompt = PromptTemplate(template=template, input_variables=[\"input\"])\n",
    "\n",
    "json_schema = {\n",
    "    \"type\": \"object\",\n",
    "    \"properties\": {\n",
    "        \"name\": {\"title\": \"Name\", \"description\": \"The artist's name\", \"type\": \"string\"},\n",
    "        \"genre\": {\"title\": \"Genre\", \"description\": \"The artist's music genre\", \"type\": \"string\"},\n",
    "        \"debut\": {\"title\": \"Debut\", \"description\": \"The artist's debut album\", \"type\": \"string\"},\n",
    "        \"debut_year\": {\"title\": \"Debut_year\", \"description\": \"Year of artist's debut album\", \"type\": \"integer\"}\n",
    "    },\n",
    "    \"required\": [\"name\", \"genre\", \"debut\", \"debut_year\"],\n",
    "}\n",
    "\n",
    "chain = create_structured_output_chain(json_schema, llm, prompt, verbose=False)\n",
    "f = open(\"Nas.txt\", \"r\")\n",
    "artist_info = str(f.read())\n",
    "print(chain.run(artist_info))"
   ]
  }
 ],
 "metadata": {
  "kernelspec": {
   "display_name": ".venv",
   "language": "python",
   "name": "python3"
  },
  "language_info": {
   "codemirror_mode": {
    "name": "ipython",
    "version": 3
   },
   "file_extension": ".py",
   "mimetype": "text/x-python",
   "name": "python",
   "nbconvert_exporter": "python",
   "pygments_lexer": "ipython3",
   "version": "3.11.0"
  }
 },
 "nbformat": 4,
 "nbformat_minor": 2
}
